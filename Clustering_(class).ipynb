{
  "nbformat": 4,
  "nbformat_minor": 0,
  "metadata": {
    "colab": {
      "name": "Clustering (class).ipynb",
      "provenance": [],
      "authorship_tag": "ABX9TyMvOzLnFMyhw2m9goJre6Rr",
      "include_colab_link": true
    },
    "kernelspec": {
      "name": "python3",
      "display_name": "Python 3"
    },
    "language_info": {
      "name": "python"
    }
  },
  "cells": [
    {
      "cell_type": "markdown",
      "metadata": {
        "id": "view-in-github",
        "colab_type": "text"
      },
      "source": [
        "<a href=\"https://colab.research.google.com/github/shivjain123/Clustering_class/blob/master/Clustering_(class).ipynb\" target=\"_parent\"><img src=\"https://colab.research.google.com/assets/colab-badge.svg\" alt=\"Open In Colab\"/></a>"
      ]
    },
    {
      "cell_type": "code",
      "metadata": {
        "id": "12jTwF4F2-of"
      },
      "source": [
        "import pandas as p\n",
        "import plotly.express as px\n",
        "\n",
        "df = p.read_csv(\"petals_sepals.csv\")\n",
        "\n",
        "df.head()\n",
        "\n",
        "figure = px.scatter(df, x = \"petal_size\", y = \"sepal_size\")\n",
        "\n",
        "figure.show()"
      ],
      "execution_count": null,
      "outputs": []
    },
    {
      "cell_type": "code",
      "metadata": {
        "id": "tH7grPXg4wLz"
      },
      "source": [
        "from sklearn.cluster import KMeans as km\n",
        "\n",
        "X = df.iloc[:,[0,1]].values\n",
        "\n",
        "wcss = list()\n",
        "for i in range(1, 11):\n",
        "    k_means = km(n_clusters = i, init = 'k-means++', random_state = 42)\n",
        "    k_means.fit(X)\n",
        "    wcss.append(k_means.inertia_)\n",
        "\n",
        "print(wcss)"
      ],
      "execution_count": null,
      "outputs": []
    },
    {
      "cell_type": "code",
      "metadata": {
        "id": "AkU9fIUu6X3J"
      },
      "source": [
        "import matplotlib.pyplot as plt\n",
        "import seaborn as s\n",
        "\n",
        "plt.figure(figsize = (10, 5))\n",
        "s.lineplot(range(1, 11), wcss, marker = 'o', color = 'blue')\n",
        "plt.title(\"Elbow Method\")\n",
        "plt.xlabel(\"Clusters\")\n",
        "plt.ylabel(\"WCSS\")"
      ],
      "execution_count": null,
      "outputs": []
    },
    {
      "cell_type": "code",
      "metadata": {
        "id": "ucZ-uLTM7g3P"
      },
      "source": [
        "k_means = km(n_clusters = 3, init = 'k-means++', random_state = 14)\n",
        "y_kmeans = k_means.fit_predict(X)"
      ],
      "execution_count": 25,
      "outputs": []
    },
    {
      "cell_type": "code",
      "metadata": {
        "id": "_1l7WNh576vD"
      },
      "source": [
        "plt.figure(figsize = (15, 7))\n",
        "s.scatterplot(X[y_kmeans == 0, 0], X[y_kmeans == 0, 1], color = 'orange', label = \"Cluster 1\")\n",
        "s.scatterplot(X[y_kmeans == 1, 0], X[y_kmeans == 1, 1], color = 'green', label = \"Cluster 2\")\n",
        "s.scatterplot(X[y_kmeans == 2, 0], X[y_kmeans == 2, 1], color = 'blue', label = \"Cluster 1\")\n",
        "s.scatterplot(k_means.cluster_centers_[:, 0], k_means.cluster_centers_[:, 1], color = 'red', label = \"Centroids\", s = 100, marker = ',')\n",
        "plt.title(\"Cluster of Flowers\")\n",
        "plt.xlabel(\"Clusters\")\n",
        "plt.ylabel(\"WCSS\")"
      ],
      "execution_count": null,
      "outputs": []
    }
  ]
}